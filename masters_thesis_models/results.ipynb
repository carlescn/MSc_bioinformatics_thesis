{
 "cells": [
  {
   "cell_type": "markdown",
   "metadata": {},
   "source": [
    "# Prepare some things\n",
    "## Load some modules"
   ]
  },
  {
   "cell_type": "code",
   "execution_count": 1,
   "metadata": {
    "id": "4fIhSUeUwLYW",
    "tags": []
   },
   "outputs": [],
   "source": [
    "from tensorflow.keras import models\n",
    "from tensorflow.keras.datasets import mnist\n",
    "from sklearn.cluster import KMeans\n",
    "from sklearn.mixture import GaussianMixture\n",
    "from sklearn.decomposition import PCA\n",
    "import numpy as np\n",
    "import matplotlib.pyplot as plt\n",
    "import pandas as pd"
   ]
  },
  {
   "cell_type": "code",
   "execution_count": 2,
   "metadata": {},
   "outputs": [],
   "source": [
    "from models import get_autoencoder_model, get_dec_model, get_vae_model, get_clustering_vae_model, get_vade_models\n",
    "from clustering_metrics import evaluate_model, evaluate_clustering"
   ]
  },
  {
   "cell_type": "markdown",
   "metadata": {},
   "source": [
    "## Load the MNIST test dataset"
   ]
  },
  {
   "cell_type": "code",
   "execution_count": 3,
   "metadata": {
    "id": "LV9siqgdiH9f"
   },
   "outputs": [],
   "source": [
    "(x_train, y_train), (x_test, y_test) = (mnist.load_data())\n",
    "x_train = x_train.reshape(-1, 28*28).astype(\"float\")/255\n",
    "x_test = x_test.reshape(-1, 28*28).astype(\"float\")/255"
   ]
  },
  {
   "cell_type": "markdown",
   "metadata": {},
   "source": [
    "## Define some parameters"
   ]
  },
  {
   "cell_type": "code",
   "execution_count": 4,
   "metadata": {},
   "outputs": [],
   "source": [
    "IMG_DIM = 28*28\n",
    "LATENT_DIM = 10\n",
    "INTERMEDIATE_DIMS = (512, 512, 2048)\n",
    "N_CLUSTERS = 10\n",
    "\n",
    "kmeans = KMeans(n_clusters=N_CLUSTERS, n_init=30)\n",
    "gmm = GaussianMixture(n_components=N_CLUSTERS, covariance_type='diag', n_init=10)"
   ]
  },
  {
   "cell_type": "markdown",
   "metadata": {},
   "source": [
    "# Raw data"
   ]
  },
  {
   "cell_type": "markdown",
   "metadata": {},
   "source": [
    "## K-means"
   ]
  },
  {
   "cell_type": "code",
   "execution_count": 5,
   "metadata": {},
   "outputs": [
    {
     "name": "stdout",
     "output_type": "stream",
     "text": [
      "['Acc: 0.588', 'ARI: 0.403', 'AMI: 0.524', 'Sil: 0.059']\n"
     ]
    },
    {
     "data": {
      "image/png": "[encoded data removed]",
      "text/plain": [
       "<Figure size 432x288 with 2 Axes>"
      ]
     },
     "metadata": {
      "needs_background": "light"
     },
     "output_type": "display_data"
    }
   ],
   "source": [
    "metrics = evaluate_clustering(kmeans.fit_predict(x_test), x_test, y_test)\n",
    "print([f'{metric}: {value:.3f}' for metric, value in metrics.items()])\n",
    "\n",
    "results_raw_kmeans = {'RL type': 'None (raw data)',\n",
    "                      'Clustering algorithm': 'K-means'}\n",
    "results_raw_kmeans.update(metrics)"
   ]
  },
  {
   "cell_type": "markdown",
   "metadata": {},
   "source": [
    "## GMM"
   ]
  },
  {
   "cell_type": "code",
   "execution_count": 6,
   "metadata": {},
   "outputs": [
    {
     "name": "stdout",
     "output_type": "stream",
     "text": [
      "['Acc: 0.465', 'ARI: 0.272', 'AMI: 0.382', 'Sil: 0.019']\n"
     ]
    },
    {
     "data": {
      "image/png": "[encoded data removed]",
      "text/plain": [
       "<Figure size 432x288 with 2 Axes>"
      ]
     },
     "metadata": {
      "needs_background": "light"
     },
     "output_type": "display_data"
    }
   ],
   "source": [
    "metrics = evaluate_clustering(gmm.fit_predict(x_test), x_test, y_test)\n",
    "print([f'{metric}: {value:.3f}' for metric, value in metrics.items()])\n",
    "\n",
    "results_raw_gmm = {'RL type': 'None (raw data)',\n",
    "                   'Clustering algorithm': 'GMM'}\n",
    "results_raw_gmm.update(metrics)"
   ]
  },
  {
   "cell_type": "markdown",
   "metadata": {},
   "source": [
    "# PCA"
   ]
  },
  {
   "cell_type": "code",
   "execution_count": 7,
   "metadata": {},
   "outputs": [
    {
     "data": {
      "text/html": [
       "<style>#sk-container-id-1 {color: black;background-color: white;}#sk-container-id-1 pre{padding: 0;}#sk-container-id-1 div.sk-toggleable {background-color: white;}#sk-container-id-1 label.sk-toggleable__label {cursor: pointer;display: block;width: 100%;margin-bottom: 0;padding: 0.3em;box-sizing: border-box;text-align: center;}#sk-container-id-1 label.sk-toggleable__label-arrow:before {content: \"▸\";float: left;margin-right: 0.25em;color: #696969;}#sk-container-id-1 label.sk-toggleable__label-arrow:hover:before {color: black;}#sk-container-id-1 div.sk-estimator:hover label.sk-toggleable__label-arrow:before {color: black;}#sk-container-id-1 div.sk-toggleable__content {max-height: 0;max-width: 0;overflow: hidden;text-align: left;background-color: #f0f8ff;}#sk-container-id-1 div.sk-toggleable__content pre {margin: 0.2em;color: black;border-radius: 0.25em;background-color: #f0f8ff;}#sk-container-id-1 input.sk-toggleable__control:checked~div.sk-toggleable__content {max-height: 200px;max-width: 100%;overflow: auto;}#sk-container-id-1 input.sk-toggleable__control:checked~label.sk-toggleable__label-arrow:before {content: \"▾\";}#sk-container-id-1 div.sk-estimator input.sk-toggleable__control:checked~label.sk-toggleable__label {background-color: #d4ebff;}#sk-container-id-1 div.sk-label input.sk-toggleable__control:checked~label.sk-toggleable__label {background-color: #d4ebff;}#sk-container-id-1 input.sk-hidden--visually {border: 0;clip: rect(1px 1px 1px 1px);clip: rect(1px, 1px, 1px, 1px);height: 1px;margin: -1px;overflow: hidden;padding: 0;position: absolute;width: 1px;}#sk-container-id-1 div.sk-estimator {font-family: monospace;background-color: #f0f8ff;border: 1px dotted black;border-radius: 0.25em;box-sizing: border-box;margin-bottom: 0.5em;}#sk-container-id-1 div.sk-estimator:hover {background-color: #d4ebff;}#sk-container-id-1 div.sk-parallel-item::after {content: \"\";width: 100%;border-bottom: 1px solid gray;flex-grow: 1;}#sk-container-id-1 div.sk-label:hover label.sk-toggleable__label {background-color: #d4ebff;}#sk-container-id-1 div.sk-serial::before {content: \"\";position: absolute;border-left: 1px solid gray;box-sizing: border-box;top: 0;bottom: 0;left: 50%;z-index: 0;}#sk-container-id-1 div.sk-serial {display: flex;flex-direction: column;align-items: center;background-color: white;padding-right: 0.2em;padding-left: 0.2em;position: relative;}#sk-container-id-1 div.sk-item {position: relative;z-index: 1;}#sk-container-id-1 div.sk-parallel {display: flex;align-items: stretch;justify-content: center;background-color: white;position: relative;}#sk-container-id-1 div.sk-item::before, #sk-container-id-1 div.sk-parallel-item::before {content: \"\";position: absolute;border-left: 1px solid gray;box-sizing: border-box;top: 0;bottom: 0;left: 50%;z-index: -1;}#sk-container-id-1 div.sk-parallel-item {display: flex;flex-direction: column;z-index: 1;position: relative;background-color: white;}#sk-container-id-1 div.sk-parallel-item:first-child::after {align-self: flex-end;width: 50%;}#sk-container-id-1 div.sk-parallel-item:last-child::after {align-self: flex-start;width: 50%;}#sk-container-id-1 div.sk-parallel-item:only-child::after {width: 0;}#sk-container-id-1 div.sk-dashed-wrapped {border: 1px dashed gray;margin: 0 0.4em 0.5em 0.4em;box-sizing: border-box;padding-bottom: 0.4em;background-color: white;}#sk-container-id-1 div.sk-label label {font-family: monospace;font-weight: bold;display: inline-block;line-height: 1.2em;}#sk-container-id-1 div.sk-label-container {text-align: center;}#sk-container-id-1 div.sk-container {/* jupyter's `normalize.less` sets `[hidden] { display: none; }` but bootstrap.min.css set `[hidden] { display: none !important; }` so we also need the `!important` here to be able to override the default hidden behavior on the sphinx rendered scikit-learn.org. See: https://github.com/scikit-learn/scikit-learn/issues/21755 */display: inline-block !important;position: relative;}#sk-container-id-1 div.sk-text-repr-fallback {display: none;}</style><div id=\"sk-container-id-1\" class=\"sk-top-container\"><div class=\"sk-text-repr-fallback\"><pre>PCA(n_components=0.95)</pre><b>In a Jupyter environment, please rerun this cell to show the HTML representation or trust the notebook. <br />On GitHub, the HTML representation is unable to render, please try loading this page with nbviewer.org.</b></div><div class=\"sk-container\" hidden><div class=\"sk-item\"><div class=\"sk-estimator sk-toggleable\"><input class=\"sk-toggleable__control sk-hidden--visually\" id=\"sk-estimator-id-1\" type=\"checkbox\" checked><label for=\"sk-estimator-id-1\" class=\"sk-toggleable__label sk-toggleable__label-arrow\">PCA</label><div class=\"sk-toggleable__content\"><pre>PCA(n_components=0.95)</pre></div></div></div></div></div>"
      ],
      "text/plain": [
       "PCA(n_components=0.95)"
      ]
     },
     "execution_count": 7,
     "metadata": {},
     "output_type": "execute_result"
    }
   ],
   "source": [
    "# Find the number of PCs to explain 0.95 of the variance:\n",
    "pca = PCA(n_components=0.95)\n",
    "pca.fit(x_train)"
   ]
  },
  {
   "cell_type": "code",
   "execution_count": 8,
   "metadata": {},
   "outputs": [
    {
     "data": {
      "image/png": "[encoded data removed]",
      "text/plain": [
       "<Figure size 432x288 with 1 Axes>"
      ]
     },
     "metadata": {
      "needs_background": "light"
     },
     "output_type": "display_data"
    }
   ],
   "source": [
    "plt.plot(np.arange(0, pca.n_components_),np.cumsum(pca.explained_variance_ratio_))\n",
    "plt.axhline(y = 0.95, color='black', linestyle='-', alpha=0.5, label=\"0.95\")\n",
    "plt.xticks(np.arange(9, pca.n_components_, 10), np.arange(10, pca.n_components_+1, 10), rotation=45, rotation_mode=\"anchor\", ha='right')\n",
    "plt.xlabel('Number of PCs')\n",
    "plt.ylabel('Cumlative explained variance');\n",
    "plt.legend();"
   ]
  },
  {
   "cell_type": "code",
   "execution_count": 9,
   "metadata": {},
   "outputs": [
    {
     "data": {
      "image/png": "[encoded data removed]",
      "text/plain": [
       "<Figure size 432x288 with 1 Axes>"
      ]
     },
     "metadata": {
      "needs_background": "light"
     },
     "output_type": "display_data"
    }
   ],
   "source": [
    "N_PCS = 30\n",
    "\n",
    "plt.plot(np.arange(0, pca.n_components_), pca.explained_variance_)\n",
    "plt.axhline(y = np.mean(pca.explained_variance_), color='black', linestyle='-', alpha=0.5, label=\"mean\")\n",
    "plt.axvline(x = N_PCS-1, color='grey', linestyle='dotted', alpha=0.5)\n",
    "plt.xticks(np.arange(9, pca.n_components_, 10), np.arange(10, pca.n_components_+1, 10), rotation=45, rotation_mode=\"anchor\", ha='right')\n",
    "plt.xlabel('Number of PCs')\n",
    "plt.ylabel('Explained variance');\n",
    "plt.legend();"
   ]
  },
  {
   "cell_type": "markdown",
   "metadata": {},
   "source": [
    "We need around 150 PCs to explain 0.95 of the variance. We'll take the first 30 PCs, since there seems to be an elbow on the second plot around this value, and it explains at least the mean explained variance."
   ]
  },
  {
   "cell_type": "code",
   "execution_count": 10,
   "metadata": {},
   "outputs": [],
   "source": [
    "x_test_pca = pca.transform(x_test)[:,0:N_PCS]"
   ]
  },
  {
   "cell_type": "markdown",
   "metadata": {},
   "source": [
    "## K-means"
   ]
  },
  {
   "cell_type": "code",
   "execution_count": 11,
   "metadata": {},
   "outputs": [
    {
     "name": "stdout",
     "output_type": "stream",
     "text": [
      "['Acc: 0.602', 'ARI: 0.417', 'AMI: 0.528', 'Sil: 0.107']\n"
     ]
    },
    {
     "data": {
      "image/png": "[encoded data removed]",
      "text/plain": [
       "<Figure size 432x288 with 2 Axes>"
      ]
     },
     "metadata": {
      "needs_background": "light"
     },
     "output_type": "display_data"
    }
   ],
   "source": [
    "metrics = evaluate_clustering(kmeans.fit_predict(x_test_pca), x_test_pca, y_test)\n",
    "print([f'{metric}: {value:.3f}' for metric, value in metrics.items()])\n",
    "\n",
    "results_pca_kmeans = {'RL type': 'PCA',\n",
    "                    'Clustering algorithm': 'K-Means'}\n",
    "results_pca_kmeans.update(metrics)"
   ]
  },
  {
   "cell_type": "markdown",
   "metadata": {},
   "source": [
    "## GMM"
   ]
  },
  {
   "cell_type": "code",
   "execution_count": 12,
   "metadata": {},
   "outputs": [
    {
     "name": "stdout",
     "output_type": "stream",
     "text": [
      "['Acc: 0.530', 'ARI: 0.221', 'AMI: 0.537', 'Sil: 0.033']\n"
     ]
    },
    {
     "data": {
      "image/png": "[encoded data removed]",
      "text/plain": [
       "<Figure size 432x288 with 2 Axes>"
      ]
     },
     "metadata": {
      "needs_background": "light"
     },
     "output_type": "display_data"
    }
   ],
   "source": [
    "metrics = evaluate_clustering(gmm.fit_predict(x_test_pca), x_test_pca, y_test)\n",
    "print([f'{metric}: {value:.3f}' for metric, value in metrics.items()])\n",
    "\n",
    "results_pca_gmm = {'RL type': 'PCA',\n",
    "                   'Clustering algorithm': 'GMM'}\n",
    "results_pca_gmm.update(metrics)"
   ]
  },
  {
   "cell_type": "markdown",
   "metadata": {},
   "source": [
    "# Autoencoder"
   ]
  },
  {
   "cell_type": "code",
   "execution_count": 13,
   "metadata": {},
   "outputs": [],
   "source": [
    "model_ae = get_autoencoder_model(IMG_DIM, LATENT_DIM, INTERMEDIATE_DIMS)\n",
    "model_ae.load_weights(\"model_weights/dec/pretrained/ae\")\n",
    "z = model_ae.encode(x_test)"
   ]
  },
  {
   "cell_type": "markdown",
   "metadata": {
    "tags": []
   },
   "source": [
    "## K-means on embeddings"
   ]
  },
  {
   "cell_type": "code",
   "execution_count": 14,
   "metadata": {},
   "outputs": [
    {
     "name": "stdout",
     "output_type": "stream",
     "text": [
      "['Acc: 0.831', 'ARI: 0.687', 'AMI: 0.730', 'Sil: 0.189']\n"
     ]
    },
    {
     "data": {
      "image/png": "[encoded data removed]",
      "text/plain": [
       "<Figure size 432x288 with 2 Axes>"
      ]
     },
     "metadata": {
      "needs_background": "light"
     },
     "output_type": "display_data"
    }
   ],
   "source": [
    "metrics = evaluate_clustering(kmeans.fit_predict(z), z, y_test)\n",
    "print([f'{metric}: {value:.3f}' for metric, value in metrics.items()])\n",
    "\n",
    "results_ae_kmeans = {'RL type': 'AE embeddings',\n",
    "                     'Clustering algorithm': 'K-means'}\n",
    "results_ae_kmeans.update(metrics)"
   ]
  },
  {
   "cell_type": "markdown",
   "metadata": {
    "tags": []
   },
   "source": [
    "## GMM on embeddings"
   ]
  },
  {
   "cell_type": "code",
   "execution_count": 15,
   "metadata": {},
   "outputs": [
    {
     "name": "stdout",
     "output_type": "stream",
     "text": [
      "['Acc: 0.693', 'ARI: 0.520', 'AMI: 0.659', 'Sil: 0.102']\n"
     ]
    },
    {
     "data": {
      "image/png": "[encoded data removed]",
      "text/plain": [
       "<Figure size 432x288 with 2 Axes>"
      ]
     },
     "metadata": {
      "needs_background": "light"
     },
     "output_type": "display_data"
    }
   ],
   "source": [
    "metrics = evaluate_clustering(gmm.fit_predict(z), z, y_test)\n",
    "print([f'{metric}: {value:.3f}' for metric, value in metrics.items()])\n",
    "\n",
    "results_ae_gmm = {'RL type': 'AE embeddings',\n",
    "                  'Clustering algorithm': 'GMM'}\n",
    "results_ae_gmm.update(metrics)"
   ]
  },
  {
   "cell_type": "markdown",
   "metadata": {},
   "source": [
    "# DEC"
   ]
  },
  {
   "cell_type": "markdown",
   "metadata": {},
   "source": [
    "## K-means"
   ]
  },
  {
   "cell_type": "code",
   "execution_count": 16,
   "metadata": {},
   "outputs": [
    {
     "name": "stdout",
     "output_type": "stream",
     "text": [
      "['Acc: 0.831', 'ARI: 0.690', 'AMI: 0.736', 'Sil: 0.925']\n"
     ]
    },
    {
     "data": {
      "image/png": "[encoded data removed]",
      "text/plain": [
       "<Figure size 432x288 with 2 Axes>"
      ]
     },
     "metadata": {
      "needs_background": "light"
     },
     "output_type": "display_data"
    }
   ],
   "source": [
    "model_dec_kmeans = get_dec_model(model_ae.encoder, N_CLUSTERS)\n",
    "model_dec_kmeans.load_weights(\"model_weights/dec/finetuned/dec_kmeans\")\n",
    "\n",
    "metrics = evaluate_model(model_dec_kmeans.classify, model_dec_kmeans.encode, x_test, y_test)\n",
    "print([f'{metric}: {value:.3f}' for metric, value in metrics.items()])\n",
    "\n",
    "results_dec_kmeans = {'RL type': 'DEC',\n",
    "                      'Clustering algorithm': 'K-means'}\n",
    "results_dec_kmeans.update(metrics)"
   ]
  },
  {
   "cell_type": "markdown",
   "metadata": {},
   "source": [
    "## GMM"
   ]
  },
  {
   "cell_type": "code",
   "execution_count": 17,
   "metadata": {},
   "outputs": [
    {
     "name": "stdout",
     "output_type": "stream",
     "text": [
      "['Acc: 0.763', 'ARI: 0.561', 'AMI: 0.687', 'Sil: 0.934']\n"
     ]
    },
    {
     "data": {
      "image/png": "[encoded data removed]",
      "text/plain": [
       "<Figure size 432x288 with 2 Axes>"
      ]
     },
     "metadata": {
      "needs_background": "light"
     },
     "output_type": "display_data"
    }
   ],
   "source": [
    "model_dec_gmm = get_dec_model(model_ae.encoder, N_CLUSTERS)\n",
    "model_dec_gmm.load_weights(\"model_weights/dec/finetuned/dec_gmm\")\n",
    "\n",
    "metrics = evaluate_model(model_dec_gmm.classify, model_dec_gmm.encode, x_test, y_test)\n",
    "print([f'{metric}: {value:.3f}' for metric, value in metrics.items()])\n",
    "\n",
    "results_dec_gmm = {'RL type': 'DEC',\n",
    "                   'Clustering algorithm': 'GMM'}\n",
    "results_dec_gmm.update(metrics)"
   ]
  },
  {
   "cell_type": "markdown",
   "metadata": {},
   "source": [
    "# VAE"
   ]
  },
  {
   "cell_type": "code",
   "execution_count": 18,
   "metadata": {},
   "outputs": [],
   "source": [
    "model_vae = get_vae_model(IMG_DIM, LATENT_DIM, INTERMEDIATE_DIMS)\n",
    "model_vae.load_weights(\"model_weights/cvae/pretrained/vae\")\n",
    "z = model_vae.encode_only_mu(x_test)"
   ]
  },
  {
   "cell_type": "markdown",
   "metadata": {
    "tags": []
   },
   "source": [
    "## K-means on embeddings"
   ]
  },
  {
   "cell_type": "code",
   "execution_count": 19,
   "metadata": {},
   "outputs": [
    {
     "name": "stdout",
     "output_type": "stream",
     "text": [
      "['Acc: 0.593', 'ARI: 0.410', 'AMI: 0.541', 'Sil: 0.164']\n"
     ]
    },
    {
     "data": {
      "image/png": "[encoded data removed]",
      "text/plain": [
       "<Figure size 432x288 with 2 Axes>"
      ]
     },
     "metadata": {
      "needs_background": "light"
     },
     "output_type": "display_data"
    }
   ],
   "source": [
    "metrics = evaluate_clustering(kmeans.fit_predict(z), z, y_test)\n",
    "print([f'{metric}: {value:.3f}' for metric, value in metrics.items()])\n",
    "\n",
    "results_vae_kmeans = {'RL type': 'VAE embeddings',\n",
    "                      'Clustering algorithm': 'K-means'}\n",
    "results_vae_kmeans.update(metrics)"
   ]
  },
  {
   "cell_type": "markdown",
   "metadata": {
    "tags": []
   },
   "source": [
    "## GMM on embeddings"
   ]
  },
  {
   "cell_type": "code",
   "execution_count": 20,
   "metadata": {},
   "outputs": [
    {
     "name": "stdout",
     "output_type": "stream",
     "text": [
      "['Acc: 0.487', 'ARI: 0.245', 'AMI: 0.405', 'Sil: -0.001']\n"
     ]
    },
    {
     "data": {
      "image/png": "[encoded data removed]",
      "text/plain": [
       "<Figure size 432x288 with 2 Axes>"
      ]
     },
     "metadata": {
      "needs_background": "light"
     },
     "output_type": "display_data"
    }
   ],
   "source": [
    "metrics = evaluate_clustering(gmm.fit_predict(z), z, y_test)\n",
    "print([f'{metric}: {value:.3f}' for metric, value in metrics.items()])\n",
    "\n",
    "results_vae_gmm = {'RL type': 'VAE embeddings',\n",
    "                   'Clustering algorithm': 'GMM'}\n",
    "results_vae_gmm.update(metrics)"
   ]
  },
  {
   "cell_type": "markdown",
   "metadata": {},
   "source": [
    "# Clustering VAE"
   ]
  },
  {
   "cell_type": "markdown",
   "metadata": {},
   "source": [
    "## K-means"
   ]
  },
  {
   "cell_type": "code",
   "execution_count": 21,
   "metadata": {},
   "outputs": [
    {
     "name": "stdout",
     "output_type": "stream",
     "text": [
      "['Acc: 0.528', 'ARI: 0.269', 'AMI: 0.426', 'Sil: 0.036']\n"
     ]
    },
    {
     "data": {
      "image/png": "[encoded data removed]",
      "text/plain": [
       "<Figure size 432x288 with 2 Axes>"
      ]
     },
     "metadata": {
      "needs_background": "light"
     },
     "output_type": "display_data"
    }
   ],
   "source": [
    "model_cvae_kmeans = get_clustering_vae_model(model_vae, N_CLUSTERS)\n",
    "model_cvae_kmeans.load_weights(\"model_weights/cvae/finetuned/cvae_kmeans\")\n",
    "\n",
    "metrics = evaluate_clustering(gmm.fit_predict(z), z, y_test)\n",
    "print([f'{metric}: {value:.3f}' for metric, value in metrics.items()])\n",
    "\n",
    "results_cvae_kmeans = {'RL type': 'Clustering VAE',\n",
    "                       'Clustering algorithm': 'K-means'}\n",
    "results_cvae_kmeans.update(metrics)"
   ]
  },
  {
   "cell_type": "markdown",
   "metadata": {},
   "source": [
    "##  GMM"
   ]
  },
  {
   "cell_type": "code",
   "execution_count": 22,
   "metadata": {},
   "outputs": [
    {
     "name": "stdout",
     "output_type": "stream",
     "text": [
      "['Acc: 0.589', 'ARI: 0.343', 'AMI: 0.474', 'Sil: 0.122']\n"
     ]
    },
    {
     "data": {
      "image/png": "[encoded data removed]",
      "text/plain": [
       "<Figure size 432x288 with 2 Axes>"
      ]
     },
     "metadata": {
      "needs_background": "light"
     },
     "output_type": "display_data"
    }
   ],
   "source": [
    "model_cvae_gmm = get_clustering_vae_model(model_vae, N_CLUSTERS)\n",
    "model_cvae_gmm.load_weights(\"model_weights/cvae/finetuned/cvae_gmm\")\n",
    "\n",
    "metrics = evaluate_model(model_cvae_gmm.classify, model_cvae_gmm.encode_only_mu, x_test, y_test)\n",
    "print([f'{metric}: {value:.3f}' for metric, value in metrics.items()])\n",
    "\n",
    "results_cvae_gmm = {'RL type': 'Clustering VAE',\n",
    "                    'Clustering algorithm': 'GMM'}\n",
    "results_cvae_gmm.update(metrics)"
   ]
  },
  {
   "cell_type": "markdown",
   "metadata": {},
   "source": [
    "# VAE + DEC"
   ]
  },
  {
   "cell_type": "markdown",
   "metadata": {},
   "source": [
    "## K-means"
   ]
  },
  {
   "cell_type": "code",
   "execution_count": 23,
   "metadata": {},
   "outputs": [
    {
     "name": "stdout",
     "output_type": "stream",
     "text": [
      "['Acc: 0.613', 'ARI: 0.422', 'AMI: 0.538', 'Sil: 0.904']\n"
     ]
    },
    {
     "data": {
      "image/png": "[encoded data removed]",
      "text/plain": [
       "<Figure size 432x288 with 2 Axes>"
      ]
     },
     "metadata": {
      "needs_background": "light"
     },
     "output_type": "display_data"
    }
   ],
   "source": [
    "vae_dec_encoder = models.Model(model_vae.encoder.inputs, model_vae.encoder.outputs[0])\n",
    "model_vae_dec_kmeans = get_dec_model(vae_dec_encoder, N_CLUSTERS)\n",
    "model_vae_dec_kmeans.load_weights(\"model_weights/vae_dec/finetuned/dec_kmeans\")\n",
    "\n",
    "metrics = evaluate_model(model_vae_dec_kmeans.classify, model_vae_dec_kmeans.encode, x_test, y_test)\n",
    "print([f'{metric}: {value:.3f}' for metric, value in metrics.items()])\n",
    "\n",
    "results_vae_dec_kmeans = {'RL type': 'VAE-DEC',\n",
    "                          'Clustering algorithm': 'K-Means'}\n",
    "results_vae_dec_kmeans.update(metrics)"
   ]
  },
  {
   "cell_type": "markdown",
   "metadata": {},
   "source": [
    "##  GMM"
   ]
  },
  {
   "cell_type": "code",
   "execution_count": 24,
   "metadata": {},
   "outputs": [
    {
     "name": "stdout",
     "output_type": "stream",
     "text": [
      "['Acc: 0.569', 'ARI: 0.313', 'AMI: 0.469', 'Sil: 0.867']\n"
     ]
    },
    {
     "data": {
      "image/png": "[encoded data removed]",
      "text/plain": [
       "<Figure size 432x288 with 2 Axes>"
      ]
     },
     "metadata": {
      "needs_background": "light"
     },
     "output_type": "display_data"
    }
   ],
   "source": [
    "model_vae_dec_gmm = get_dec_model(vae_dec_encoder, N_CLUSTERS)\n",
    "model_vae_dec_gmm.load_weights(\"model_weights/vae_dec/finetuned/dec_gmm\")\n",
    "\n",
    "metrics = evaluate_model(model_vae_dec_gmm.classify, model_vae_dec_gmm.encode, x_test, y_test)\n",
    "print([f'{metric}: {value:.3f}' for metric, value in metrics.items()])\n",
    "\n",
    "results_vae_dec_gmm = {'RL type': 'VAE-DEC',\n",
    "                       'Clustering algorithm': 'GMM'}\n",
    "results_vae_dec_gmm.update(metrics)"
   ]
  },
  {
   "cell_type": "markdown",
   "metadata": {},
   "source": [
    "# VaDE (GMM)"
   ]
  },
  {
   "cell_type": "code",
   "execution_count": 25,
   "metadata": {},
   "outputs": [
    {
     "name": "stdout",
     "output_type": "stream",
     "text": [
      "['Acc: 0.941', 'ARI: 0.877', 'AMI: 0.876', 'Sil: 0.226']\n"
     ]
    },
    {
     "data": {
      "image/png": "[encoded data removed]",
      "text/plain": [
       "<Figure size 432x288 with 2 Axes>"
      ]
     },
     "metadata": {
      "needs_background": "light"
     },
     "output_type": "display_data"
    }
   ],
   "source": [
    "_, model_vade = get_vade_models(N_CLUSTERS, IMG_DIM, LATENT_DIM, INTERMEDIATE_DIMS)\n",
    "model_vade.load_weights(\"model_weights/vade/finetuned/vade\")\n",
    "\n",
    "metrics = evaluate_model(model_vade.classify, model_vade.encode_only_mu, x_test, y_test)\n",
    "print([f'{metric}: {value:.3f}' for metric, value in metrics.items()])\n",
    "\n",
    "results_vade = {'RL type': 'VaDE',\n",
    "                'Clustering algorithm': 'GMM'}\n",
    "results_vade.update(metrics)"
   ]
  },
  {
   "cell_type": "markdown",
   "metadata": {},
   "source": [
    "# Results summary"
   ]
  },
  {
   "cell_type": "code",
   "execution_count": 50,
   "metadata": {},
   "outputs": [],
   "source": [
    "results = pd.DataFrame((results_raw_kmeans, results_raw_gmm,\n",
    "                        results_pca_kmeans, results_pca_gmm,\n",
    "                        results_ae_kmeans, results_ae_gmm,\n",
    "                        results_dec_kmeans, results_dec_gmm,\n",
    "                        results_vae_kmeans, results_vae_gmm,\n",
    "                        results_cvae_kmeans, results_cvae_gmm,\n",
    "                        results_vae_dec_kmeans, results_vae_dec_gmm,\n",
    "                        results_vade))"
   ]
  },
  {
   "cell_type": "code",
   "execution_count": 121,
   "metadata": {},
   "outputs": [
    {
     "data": {
      "text/html": [
       "<style type=\"text/css\">\n",
       "#T_63bf6_row0_col2, #T_63bf6_row11_col2 {\n",
       "  background-color: #45506c;\n",
       "  color: #f1f1f1;\n",
       "}\n",
       "#T_63bf6_row0_col3 {\n",
       "  background-color: #49536c;\n",
       "  color: #f1f1f1;\n",
       "}\n",
       "#T_63bf6_row0_col4, #T_63bf6_row2_col2, #T_63bf6_row8_col3 {\n",
       "  background-color: #4c556c;\n",
       "  color: #f1f1f1;\n",
       "}\n",
       "#T_63bf6_row0_col5 {\n",
       "  background-color: #002e6a;\n",
       "  color: #f1f1f1;\n",
       "}\n",
       "#T_63bf6_row1_col2, #T_63bf6_row1_col4, #T_63bf6_row3_col3, #T_63bf6_row9_col5 {\n",
       "  background-color: #00224e;\n",
       "  color: #f1f1f1;\n",
       "}\n",
       "#T_63bf6_row1_col3 {\n",
       "  background-color: #00306f;\n",
       "  color: #f1f1f1;\n",
       "}\n",
       "#T_63bf6_row1_col5 {\n",
       "  background-color: #002656;\n",
       "  color: #f1f1f1;\n",
       "}\n",
       "#T_63bf6_row2_col3 {\n",
       "  background-color: #4f576c;\n",
       "  color: #f1f1f1;\n",
       "}\n",
       "#T_63bf6_row2_col4 {\n",
       "  background-color: #4e566c;\n",
       "  color: #f1f1f1;\n",
       "}\n",
       "#T_63bf6_row2_col5 {\n",
       "  background-color: #143670;\n",
       "  color: #f1f1f1;\n",
       "}\n",
       "#T_63bf6_row3_col2, #T_63bf6_row13_col3 {\n",
       "  background-color: #203a6f;\n",
       "  color: #f1f1f1;\n",
       "}\n",
       "#T_63bf6_row3_col4 {\n",
       "  background-color: #535a6d;\n",
       "  color: #f1f1f1;\n",
       "}\n",
       "#T_63bf6_row3_col5, #T_63bf6_row9_col3 {\n",
       "  background-color: #00295d;\n",
       "  color: #f1f1f1;\n",
       "}\n",
       "#T_63bf6_row4_col2, #T_63bf6_row6_col2 {\n",
       "  background-color: #c0b16a;\n",
       "  color: #000000;\n",
       "}\n",
       "#T_63bf6_row4_col3 {\n",
       "  background-color: #b0a571;\n",
       "  color: #000000;\n",
       "}\n",
       "#T_63bf6_row4_col4 {\n",
       "  background-color: #afa471;\n",
       "  color: #000000;\n",
       "}\n",
       "#T_63bf6_row4_col5 {\n",
       "  background-color: #36466c;\n",
       "  color: #f1f1f1;\n",
       "}\n",
       "#T_63bf6_row5_col2 {\n",
       "  background-color: #777777;\n",
       "  color: #f1f1f1;\n",
       "}\n",
       "#T_63bf6_row5_col3 {\n",
       "  background-color: #727374;\n",
       "  color: #f1f1f1;\n",
       "}\n",
       "#T_63bf6_row5_col4 {\n",
       "  background-color: #8b8778;\n",
       "  color: #f1f1f1;\n",
       "}\n",
       "#T_63bf6_row5_col5 {\n",
       "  background-color: #123570;\n",
       "  color: #f1f1f1;\n",
       "}\n",
       "#T_63bf6_row6_col3, #T_63bf6_row6_col4 {\n",
       "  background-color: #b3a670;\n",
       "  color: #000000;\n",
       "}\n",
       "#T_63bf6_row6_col5 {\n",
       "  background-color: #fee535;\n",
       "  color: #000000;\n",
       "}\n",
       "#T_63bf6_row7_col2 {\n",
       "  background-color: #9b9476;\n",
       "  color: #f1f1f1;\n",
       "}\n",
       "#T_63bf6_row7_col3 {\n",
       "  background-color: #807f78;\n",
       "  color: #f1f1f1;\n",
       "}\n",
       "#T_63bf6_row7_col4 {\n",
       "  background-color: #999277;\n",
       "  color: #f1f1f1;\n",
       "}\n",
       "#T_63bf6_row7_col5, #T_63bf6_row14_col2, #T_63bf6_row14_col3, #T_63bf6_row14_col4 {\n",
       "  background-color: #fee838;\n",
       "  color: #000000;\n",
       "}\n",
       "#T_63bf6_row8_col2 {\n",
       "  background-color: #47516c;\n",
       "  color: #f1f1f1;\n",
       "}\n",
       "#T_63bf6_row8_col4 {\n",
       "  background-color: #555b6d;\n",
       "  color: #f1f1f1;\n",
       "}\n",
       "#T_63bf6_row8_col5, #T_63bf6_row13_col4 {\n",
       "  background-color: #2e416d;\n",
       "  color: #f1f1f1;\n",
       "}\n",
       "#T_63bf6_row9_col2 {\n",
       "  background-color: #002b62;\n",
       "  color: #f1f1f1;\n",
       "}\n",
       "#T_63bf6_row9_col4 {\n",
       "  background-color: #002a61;\n",
       "  color: #f1f1f1;\n",
       "}\n",
       "#T_63bf6_row10_col2, #T_63bf6_row11_col5 {\n",
       "  background-color: #1c396f;\n",
       "  color: #f1f1f1;\n",
       "}\n",
       "#T_63bf6_row10_col3 {\n",
       "  background-color: #002f6d;\n",
       "  color: #f1f1f1;\n",
       "}\n",
       "#T_63bf6_row10_col4 {\n",
       "  background-color: #013271;\n",
       "  color: #f1f1f1;\n",
       "}\n",
       "#T_63bf6_row10_col5 {\n",
       "  background-color: #002a5f;\n",
       "  color: #f1f1f1;\n",
       "}\n",
       "#T_63bf6_row11_col3, #T_63bf6_row11_col4 {\n",
       "  background-color: #31436d;\n",
       "  color: #f1f1f1;\n",
       "}\n",
       "#T_63bf6_row12_col2 {\n",
       "  background-color: #52596d;\n",
       "  color: #f1f1f1;\n",
       "}\n",
       "#T_63bf6_row12_col3 {\n",
       "  background-color: #51586d;\n",
       "  color: #f1f1f1;\n",
       "}\n",
       "#T_63bf6_row12_col4 {\n",
       "  background-color: #545a6d;\n",
       "  color: #f1f1f1;\n",
       "}\n",
       "#T_63bf6_row12_col5 {\n",
       "  background-color: #f8df3c;\n",
       "  color: #000000;\n",
       "}\n",
       "#T_63bf6_row13_col2 {\n",
       "  background-color: #3a486c;\n",
       "  color: #f1f1f1;\n",
       "}\n",
       "#T_63bf6_row13_col5 {\n",
       "  background-color: #edd54a;\n",
       "  color: #000000;\n",
       "}\n",
       "#T_63bf6_row14_col5 {\n",
       "  background-color: #414d6c;\n",
       "  color: #f1f1f1;\n",
       "}\n",
       "</style>\n",
       "<table id=\"T_63bf6\">\n",
       "  <thead>\n",
       "    <tr>\n",
       "      <th class=\"blank level0\" >&nbsp;</th>\n",
       "      <th id=\"T_63bf6_level0_col0\" class=\"col_heading level0 col0\" >RL type</th>\n",
       "      <th id=\"T_63bf6_level0_col1\" class=\"col_heading level0 col1\" >Clustering algorithm</th>\n",
       "      <th id=\"T_63bf6_level0_col2\" class=\"col_heading level0 col2\" >Acc</th>\n",
       "      <th id=\"T_63bf6_level0_col3\" class=\"col_heading level0 col3\" >ARI</th>\n",
       "      <th id=\"T_63bf6_level0_col4\" class=\"col_heading level0 col4\" >AMI</th>\n",
       "      <th id=\"T_63bf6_level0_col5\" class=\"col_heading level0 col5\" >Sil</th>\n",
       "    </tr>\n",
       "  </thead>\n",
       "  <tbody>\n",
       "    <tr>\n",
       "      <th id=\"T_63bf6_level0_row0\" class=\"row_heading level0 row0\" >0</th>\n",
       "      <td id=\"T_63bf6_row0_col0\" class=\"data row0 col0\" >None (raw data)</td>\n",
       "      <td id=\"T_63bf6_row0_col1\" class=\"data row0 col1\" >K-means</td>\n",
       "      <td id=\"T_63bf6_row0_col2\" class=\"data row0 col2\" >0.59</td>\n",
       "      <td id=\"T_63bf6_row0_col3\" class=\"data row0 col3\" >0.40</td>\n",
       "      <td id=\"T_63bf6_row0_col4\" class=\"data row0 col4\" >0.52</td>\n",
       "      <td id=\"T_63bf6_row0_col5\" class=\"data row0 col5\" >0.06</td>\n",
       "    </tr>\n",
       "    <tr>\n",
       "      <th id=\"T_63bf6_level0_row1\" class=\"row_heading level0 row1\" >1</th>\n",
       "      <td id=\"T_63bf6_row1_col0\" class=\"data row1 col0\" >None (raw data)</td>\n",
       "      <td id=\"T_63bf6_row1_col1\" class=\"data row1 col1\" >GMM</td>\n",
       "      <td id=\"T_63bf6_row1_col2\" class=\"data row1 col2\" >0.46</td>\n",
       "      <td id=\"T_63bf6_row1_col3\" class=\"data row1 col3\" >0.27</td>\n",
       "      <td id=\"T_63bf6_row1_col4\" class=\"data row1 col4\" >0.38</td>\n",
       "      <td id=\"T_63bf6_row1_col5\" class=\"data row1 col5\" >0.02</td>\n",
       "    </tr>\n",
       "    <tr>\n",
       "      <th id=\"T_63bf6_level0_row2\" class=\"row_heading level0 row2\" >2</th>\n",
       "      <td id=\"T_63bf6_row2_col0\" class=\"data row2 col0\" >PCA</td>\n",
       "      <td id=\"T_63bf6_row2_col1\" class=\"data row2 col1\" >K-Means</td>\n",
       "      <td id=\"T_63bf6_row2_col2\" class=\"data row2 col2\" >0.60</td>\n",
       "      <td id=\"T_63bf6_row2_col3\" class=\"data row2 col3\" >0.42</td>\n",
       "      <td id=\"T_63bf6_row2_col4\" class=\"data row2 col4\" >0.53</td>\n",
       "      <td id=\"T_63bf6_row2_col5\" class=\"data row2 col5\" >0.11</td>\n",
       "    </tr>\n",
       "    <tr>\n",
       "      <th id=\"T_63bf6_level0_row3\" class=\"row_heading level0 row3\" >3</th>\n",
       "      <td id=\"T_63bf6_row3_col0\" class=\"data row3 col0\" >PCA</td>\n",
       "      <td id=\"T_63bf6_row3_col1\" class=\"data row3 col1\" >GMM</td>\n",
       "      <td id=\"T_63bf6_row3_col2\" class=\"data row3 col2\" >0.53</td>\n",
       "      <td id=\"T_63bf6_row3_col3\" class=\"data row3 col3\" >0.22</td>\n",
       "      <td id=\"T_63bf6_row3_col4\" class=\"data row3 col4\" >0.54</td>\n",
       "      <td id=\"T_63bf6_row3_col5\" class=\"data row3 col5\" >0.03</td>\n",
       "    </tr>\n",
       "    <tr>\n",
       "      <th id=\"T_63bf6_level0_row4\" class=\"row_heading level0 row4\" >4</th>\n",
       "      <td id=\"T_63bf6_row4_col0\" class=\"data row4 col0\" >AE embeddings</td>\n",
       "      <td id=\"T_63bf6_row4_col1\" class=\"data row4 col1\" >K-means</td>\n",
       "      <td id=\"T_63bf6_row4_col2\" class=\"data row4 col2\" >0.83</td>\n",
       "      <td id=\"T_63bf6_row4_col3\" class=\"data row4 col3\" >0.69</td>\n",
       "      <td id=\"T_63bf6_row4_col4\" class=\"data row4 col4\" >0.73</td>\n",
       "      <td id=\"T_63bf6_row4_col5\" class=\"data row4 col5\" >0.19</td>\n",
       "    </tr>\n",
       "    <tr>\n",
       "      <th id=\"T_63bf6_level0_row5\" class=\"row_heading level0 row5\" >5</th>\n",
       "      <td id=\"T_63bf6_row5_col0\" class=\"data row5 col0\" >AE embeddings</td>\n",
       "      <td id=\"T_63bf6_row5_col1\" class=\"data row5 col1\" >GMM</td>\n",
       "      <td id=\"T_63bf6_row5_col2\" class=\"data row5 col2\" >0.69</td>\n",
       "      <td id=\"T_63bf6_row5_col3\" class=\"data row5 col3\" >0.52</td>\n",
       "      <td id=\"T_63bf6_row5_col4\" class=\"data row5 col4\" >0.66</td>\n",
       "      <td id=\"T_63bf6_row5_col5\" class=\"data row5 col5\" >0.10</td>\n",
       "    </tr>\n",
       "    <tr>\n",
       "      <th id=\"T_63bf6_level0_row6\" class=\"row_heading level0 row6\" >6</th>\n",
       "      <td id=\"T_63bf6_row6_col0\" class=\"data row6 col0\" >DEC</td>\n",
       "      <td id=\"T_63bf6_row6_col1\" class=\"data row6 col1\" >K-means</td>\n",
       "      <td id=\"T_63bf6_row6_col2\" class=\"data row6 col2\" >0.83</td>\n",
       "      <td id=\"T_63bf6_row6_col3\" class=\"data row6 col3\" >0.69</td>\n",
       "      <td id=\"T_63bf6_row6_col4\" class=\"data row6 col4\" >0.74</td>\n",
       "      <td id=\"T_63bf6_row6_col5\" class=\"data row6 col5\" >0.93</td>\n",
       "    </tr>\n",
       "    <tr>\n",
       "      <th id=\"T_63bf6_level0_row7\" class=\"row_heading level0 row7\" >7</th>\n",
       "      <td id=\"T_63bf6_row7_col0\" class=\"data row7 col0\" >DEC</td>\n",
       "      <td id=\"T_63bf6_row7_col1\" class=\"data row7 col1\" >GMM</td>\n",
       "      <td id=\"T_63bf6_row7_col2\" class=\"data row7 col2\" >0.76</td>\n",
       "      <td id=\"T_63bf6_row7_col3\" class=\"data row7 col3\" >0.56</td>\n",
       "      <td id=\"T_63bf6_row7_col4\" class=\"data row7 col4\" >0.69</td>\n",
       "      <td id=\"T_63bf6_row7_col5\" class=\"data row7 col5\" >0.93</td>\n",
       "    </tr>\n",
       "    <tr>\n",
       "      <th id=\"T_63bf6_level0_row8\" class=\"row_heading level0 row8\" >8</th>\n",
       "      <td id=\"T_63bf6_row8_col0\" class=\"data row8 col0\" >VAE embeddings</td>\n",
       "      <td id=\"T_63bf6_row8_col1\" class=\"data row8 col1\" >K-means</td>\n",
       "      <td id=\"T_63bf6_row8_col2\" class=\"data row8 col2\" >0.59</td>\n",
       "      <td id=\"T_63bf6_row8_col3\" class=\"data row8 col3\" >0.41</td>\n",
       "      <td id=\"T_63bf6_row8_col4\" class=\"data row8 col4\" >0.54</td>\n",
       "      <td id=\"T_63bf6_row8_col5\" class=\"data row8 col5\" >0.16</td>\n",
       "    </tr>\n",
       "    <tr>\n",
       "      <th id=\"T_63bf6_level0_row9\" class=\"row_heading level0 row9\" >9</th>\n",
       "      <td id=\"T_63bf6_row9_col0\" class=\"data row9 col0\" >VAE embeddings</td>\n",
       "      <td id=\"T_63bf6_row9_col1\" class=\"data row9 col1\" >GMM</td>\n",
       "      <td id=\"T_63bf6_row9_col2\" class=\"data row9 col2\" >0.49</td>\n",
       "      <td id=\"T_63bf6_row9_col3\" class=\"data row9 col3\" >0.25</td>\n",
       "      <td id=\"T_63bf6_row9_col4\" class=\"data row9 col4\" >0.40</td>\n",
       "      <td id=\"T_63bf6_row9_col5\" class=\"data row9 col5\" >-0.00</td>\n",
       "    </tr>\n",
       "    <tr>\n",
       "      <th id=\"T_63bf6_level0_row10\" class=\"row_heading level0 row10\" >10</th>\n",
       "      <td id=\"T_63bf6_row10_col0\" class=\"data row10 col0\" >Clustering VAE</td>\n",
       "      <td id=\"T_63bf6_row10_col1\" class=\"data row10 col1\" >K-means</td>\n",
       "      <td id=\"T_63bf6_row10_col2\" class=\"data row10 col2\" >0.53</td>\n",
       "      <td id=\"T_63bf6_row10_col3\" class=\"data row10 col3\" >0.27</td>\n",
       "      <td id=\"T_63bf6_row10_col4\" class=\"data row10 col4\" >0.43</td>\n",
       "      <td id=\"T_63bf6_row10_col5\" class=\"data row10 col5\" >0.04</td>\n",
       "    </tr>\n",
       "    <tr>\n",
       "      <th id=\"T_63bf6_level0_row11\" class=\"row_heading level0 row11\" >11</th>\n",
       "      <td id=\"T_63bf6_row11_col0\" class=\"data row11 col0\" >Clustering VAE</td>\n",
       "      <td id=\"T_63bf6_row11_col1\" class=\"data row11 col1\" >GMM</td>\n",
       "      <td id=\"T_63bf6_row11_col2\" class=\"data row11 col2\" >0.59</td>\n",
       "      <td id=\"T_63bf6_row11_col3\" class=\"data row11 col3\" >0.34</td>\n",
       "      <td id=\"T_63bf6_row11_col4\" class=\"data row11 col4\" >0.47</td>\n",
       "      <td id=\"T_63bf6_row11_col5\" class=\"data row11 col5\" >0.12</td>\n",
       "    </tr>\n",
       "    <tr>\n",
       "      <th id=\"T_63bf6_level0_row12\" class=\"row_heading level0 row12\" >12</th>\n",
       "      <td id=\"T_63bf6_row12_col0\" class=\"data row12 col0\" >VAE-DEC</td>\n",
       "      <td id=\"T_63bf6_row12_col1\" class=\"data row12 col1\" >K-Means</td>\n",
       "      <td id=\"T_63bf6_row12_col2\" class=\"data row12 col2\" >0.61</td>\n",
       "      <td id=\"T_63bf6_row12_col3\" class=\"data row12 col3\" >0.42</td>\n",
       "      <td id=\"T_63bf6_row12_col4\" class=\"data row12 col4\" >0.54</td>\n",
       "      <td id=\"T_63bf6_row12_col5\" class=\"data row12 col5\" >0.90</td>\n",
       "    </tr>\n",
       "    <tr>\n",
       "      <th id=\"T_63bf6_level0_row13\" class=\"row_heading level0 row13\" >13</th>\n",
       "      <td id=\"T_63bf6_row13_col0\" class=\"data row13 col0\" >VAE-DEC</td>\n",
       "      <td id=\"T_63bf6_row13_col1\" class=\"data row13 col1\" >GMM</td>\n",
       "      <td id=\"T_63bf6_row13_col2\" class=\"data row13 col2\" >0.57</td>\n",
       "      <td id=\"T_63bf6_row13_col3\" class=\"data row13 col3\" >0.31</td>\n",
       "      <td id=\"T_63bf6_row13_col4\" class=\"data row13 col4\" >0.47</td>\n",
       "      <td id=\"T_63bf6_row13_col5\" class=\"data row13 col5\" >0.87</td>\n",
       "    </tr>\n",
       "    <tr>\n",
       "      <th id=\"T_63bf6_level0_row14\" class=\"row_heading level0 row14\" >14</th>\n",
       "      <td id=\"T_63bf6_row14_col0\" class=\"data row14 col0\" >VaDE</td>\n",
       "      <td id=\"T_63bf6_row14_col1\" class=\"data row14 col1\" >GMM</td>\n",
       "      <td id=\"T_63bf6_row14_col2\" class=\"data row14 col2\" >0.94</td>\n",
       "      <td id=\"T_63bf6_row14_col3\" class=\"data row14 col3\" >0.88</td>\n",
       "      <td id=\"T_63bf6_row14_col4\" class=\"data row14 col4\" >0.88</td>\n",
       "      <td id=\"T_63bf6_row14_col5\" class=\"data row14 col5\" >0.23</td>\n",
       "    </tr>\n",
       "  </tbody>\n",
       "</table>\n"
      ],
      "text/plain": [
       "<pandas.io.formats.style.Styler at 0x7f11b9ca3f70>"
      ]
     },
     "execution_count": 121,
     "metadata": {},
     "output_type": "execute_result"
    }
   ],
   "source": [
    "results.style.background_gradient(axis=0, cmap=\"cividis\", text_color_threshold=0.3).format('{:.2f}', subset=['Acc','ARI','AMI','Sil'])"
   ]
  },
  {
   "cell_type": "code",
   "execution_count": null,
   "metadata": {},
   "outputs": [],
   "source": [
    "# Markdown-like table:\n",
    "# pip install tabulate\n",
    "# from tabulate import tabulate\n",
    "# print(tabulate(results.round(2), headers='keys', tablefmt='pipe', showindex=False))"
   ]
  }
 ],
 "metadata": {
  "accelerator": "GPU",
  "colab": {
   "collapsed_sections": [],
   "provenance": [],
   "toc_visible": true
  },
  "gpuClass": "standard",
  "kernelspec": {
   "display_name": "Python 3 (ipykernel)",
   "language": "python",
   "name": "python3"
  },
  "language_info": {
   "codemirror_mode": {
    "name": "ipython",
    "version": 3
   },
   "file_extension": ".py",
   "mimetype": "text/x-python",
   "name": "python",
   "nbconvert_exporter": "python",
   "pygments_lexer": "ipython3",
   "version": "3.9.13"
  },
  "toc-autonumbering": true
 },
 "nbformat": 4,
 "nbformat_minor": 4
}
