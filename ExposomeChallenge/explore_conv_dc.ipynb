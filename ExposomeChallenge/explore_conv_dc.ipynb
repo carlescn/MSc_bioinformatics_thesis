{
 "cells": [
  {
   "cell_type": "markdown",
   "metadata": {},
   "source": [
    "# Prepare some things\n",
    "## Load some modules"
   ]
  },
  {
   "cell_type": "code",
   "execution_count": 30,
   "metadata": {
    "id": "4fIhSUeUwLYW",
    "tags": []
   },
   "outputs": [],
   "source": [
    "import tensorflow as tf\n",
    "from tensorflow import keras\n",
    "from tensorflow.keras import layers, models\n",
    "\n",
    "import pandas as pd\n",
    "import numpy as np"
   ]
  },
  {
   "cell_type": "code",
   "execution_count": 2,
   "metadata": {},
   "outputs": [],
   "source": [
    "import sys\n",
    "sys.path.append('../')\n",
    "from models import get_autoencoder_model"
   ]
  },
  {
   "cell_type": "code",
   "execution_count": 3,
   "metadata": {},
   "outputs": [],
   "source": [
    "# Disable warnings output (TSNE outputs one very time)\n",
    "import warnings\n",
    "warnings.filterwarnings('ignore')"
   ]
  },
  {
   "cell_type": "markdown",
   "metadata": {},
   "source": [
    "## Load the metabolomic data\n",
    "(alrady min-max normalized)"
   ]
  },
  {
   "cell_type": "code",
   "execution_count": 80,
   "metadata": {},
   "outputs": [
    {
     "data": {
      "text/html": [
       "<div>\n",
       "<style scoped>\n",
       "    .dataframe tbody tr th:only-of-type {\n",
       "        vertical-align: middle;\n",
       "    }\n",
       "\n",
       "    .dataframe tbody tr th {\n",
       "        vertical-align: top;\n",
       "    }\n",
       "\n",
       "    .dataframe thead th {\n",
       "        text-align: right;\n",
       "    }\n",
       "</style>\n",
       "<table border=\"1\" class=\"dataframe\">\n",
       "  <thead>\n",
       "    <tr style=\"text-align: right;\">\n",
       "      <th></th>\n",
       "      <th>serum_metab_1</th>\n",
       "      <th>serum_metab_2</th>\n",
       "      <th>serum_metab_3</th>\n",
       "      <th>serum_metab_4</th>\n",
       "      <th>serum_metab_5</th>\n",
       "      <th>serum_metab_6</th>\n",
       "      <th>serum_metab_7</th>\n",
       "      <th>serum_metab_8</th>\n",
       "      <th>serum_metab_9</th>\n",
       "      <th>serum_metab_10</th>\n",
       "      <th>...</th>\n",
       "      <th>urine_metab_35</th>\n",
       "      <th>urine_metab_36</th>\n",
       "      <th>urine_metab_37</th>\n",
       "      <th>urine_metab_38</th>\n",
       "      <th>urine_metab_39</th>\n",
       "      <th>urine_metab_40</th>\n",
       "      <th>urine_metab_41</th>\n",
       "      <th>urine_metab_42</th>\n",
       "      <th>urine_metab_43</th>\n",
       "      <th>urine_metab_44</th>\n",
       "    </tr>\n",
       "  </thead>\n",
       "  <tbody>\n",
       "    <tr>\n",
       "      <th>430</th>\n",
       "      <td>0.224542</td>\n",
       "      <td>0.205024</td>\n",
       "      <td>0.490470</td>\n",
       "      <td>0.653163</td>\n",
       "      <td>0.515652</td>\n",
       "      <td>0.483009</td>\n",
       "      <td>0.249523</td>\n",
       "      <td>0.340524</td>\n",
       "      <td>0.400406</td>\n",
       "      <td>0.574663</td>\n",
       "      <td>...</td>\n",
       "      <td>0.485001</td>\n",
       "      <td>0.628204</td>\n",
       "      <td>0.489431</td>\n",
       "      <td>0.640612</td>\n",
       "      <td>0.391376</td>\n",
       "      <td>0.665946</td>\n",
       "      <td>0.848047</td>\n",
       "      <td>0.360177</td>\n",
       "      <td>0.587031</td>\n",
       "      <td>0.605114</td>\n",
       "    </tr>\n",
       "    <tr>\n",
       "      <th>1187</th>\n",
       "      <td>0.402503</td>\n",
       "      <td>0.549489</td>\n",
       "      <td>0.828354</td>\n",
       "      <td>0.323912</td>\n",
       "      <td>0.431621</td>\n",
       "      <td>0.491824</td>\n",
       "      <td>0.376192</td>\n",
       "      <td>0.348330</td>\n",
       "      <td>0.213731</td>\n",
       "      <td>0.308797</td>\n",
       "      <td>...</td>\n",
       "      <td>0.469040</td>\n",
       "      <td>0.816605</td>\n",
       "      <td>0.441328</td>\n",
       "      <td>0.000000</td>\n",
       "      <td>0.494475</td>\n",
       "      <td>0.696170</td>\n",
       "      <td>0.413698</td>\n",
       "      <td>0.396026</td>\n",
       "      <td>0.572658</td>\n",
       "      <td>0.619732</td>\n",
       "    </tr>\n",
       "    <tr>\n",
       "      <th>940</th>\n",
       "      <td>0.402503</td>\n",
       "      <td>0.556896</td>\n",
       "      <td>0.706195</td>\n",
       "      <td>0.534558</td>\n",
       "      <td>0.544173</td>\n",
       "      <td>0.514375</td>\n",
       "      <td>0.397976</td>\n",
       "      <td>0.856991</td>\n",
       "      <td>0.358113</td>\n",
       "      <td>0.315096</td>\n",
       "      <td>...</td>\n",
       "      <td>0.469738</td>\n",
       "      <td>0.627037</td>\n",
       "      <td>0.519383</td>\n",
       "      <td>0.000000</td>\n",
       "      <td>0.326659</td>\n",
       "      <td>0.645060</td>\n",
       "      <td>0.841829</td>\n",
       "      <td>0.000000</td>\n",
       "      <td>0.653218</td>\n",
       "      <td>0.665950</td>\n",
       "    </tr>\n",
       "    <tr>\n",
       "      <th>936</th>\n",
       "      <td>0.462293</td>\n",
       "      <td>0.578889</td>\n",
       "      <td>0.451112</td>\n",
       "      <td>0.448921</td>\n",
       "      <td>0.492050</td>\n",
       "      <td>0.553183</td>\n",
       "      <td>0.372429</td>\n",
       "      <td>0.544806</td>\n",
       "      <td>0.388943</td>\n",
       "      <td>0.545676</td>\n",
       "      <td>...</td>\n",
       "      <td>0.457602</td>\n",
       "      <td>0.738061</td>\n",
       "      <td>0.290234</td>\n",
       "      <td>0.177238</td>\n",
       "      <td>0.451808</td>\n",
       "      <td>0.487007</td>\n",
       "      <td>0.759121</td>\n",
       "      <td>0.000000</td>\n",
       "      <td>0.678092</td>\n",
       "      <td>0.729031</td>\n",
       "    </tr>\n",
       "    <tr>\n",
       "      <th>788</th>\n",
       "      <td>0.247137</td>\n",
       "      <td>0.571595</td>\n",
       "      <td>0.568414</td>\n",
       "      <td>0.417697</td>\n",
       "      <td>0.432269</td>\n",
       "      <td>0.553183</td>\n",
       "      <td>0.531642</td>\n",
       "      <td>0.534388</td>\n",
       "      <td>0.536561</td>\n",
       "      <td>0.704749</td>\n",
       "      <td>...</td>\n",
       "      <td>0.452021</td>\n",
       "      <td>0.639165</td>\n",
       "      <td>0.329798</td>\n",
       "      <td>0.354477</td>\n",
       "      <td>0.250210</td>\n",
       "      <td>0.702331</td>\n",
       "      <td>0.778121</td>\n",
       "      <td>0.345500</td>\n",
       "      <td>0.554585</td>\n",
       "      <td>0.661642</td>\n",
       "    </tr>\n",
       "  </tbody>\n",
       "</table>\n",
       "<p>5 rows × 221 columns</p>\n",
       "</div>"
      ],
      "text/plain": [
       "      serum_metab_1  serum_metab_2  serum_metab_3  serum_metab_4  \\\n",
       "430        0.224542       0.205024       0.490470       0.653163   \n",
       "1187       0.402503       0.549489       0.828354       0.323912   \n",
       "940        0.402503       0.556896       0.706195       0.534558   \n",
       "936        0.462293       0.578889       0.451112       0.448921   \n",
       "788        0.247137       0.571595       0.568414       0.417697   \n",
       "\n",
       "      serum_metab_5  serum_metab_6  serum_metab_7  serum_metab_8  \\\n",
       "430        0.515652       0.483009       0.249523       0.340524   \n",
       "1187       0.431621       0.491824       0.376192       0.348330   \n",
       "940        0.544173       0.514375       0.397976       0.856991   \n",
       "936        0.492050       0.553183       0.372429       0.544806   \n",
       "788        0.432269       0.553183       0.531642       0.534388   \n",
       "\n",
       "      serum_metab_9  serum_metab_10  ...  urine_metab_35  urine_metab_36  \\\n",
       "430        0.400406        0.574663  ...        0.485001        0.628204   \n",
       "1187       0.213731        0.308797  ...        0.469040        0.816605   \n",
       "940        0.358113        0.315096  ...        0.469738        0.627037   \n",
       "936        0.388943        0.545676  ...        0.457602        0.738061   \n",
       "788        0.536561        0.704749  ...        0.452021        0.639165   \n",
       "\n",
       "      urine_metab_37  urine_metab_38  urine_metab_39  urine_metab_40  \\\n",
       "430         0.489431        0.640612        0.391376        0.665946   \n",
       "1187        0.441328        0.000000        0.494475        0.696170   \n",
       "940         0.519383        0.000000        0.326659        0.645060   \n",
       "936         0.290234        0.177238        0.451808        0.487007   \n",
       "788         0.329798        0.354477        0.250210        0.702331   \n",
       "\n",
       "      urine_metab_41  urine_metab_42  urine_metab_43  urine_metab_44  \n",
       "430         0.848047        0.360177        0.587031        0.605114  \n",
       "1187        0.413698        0.396026        0.572658        0.619732  \n",
       "940         0.841829        0.000000        0.653218        0.665950  \n",
       "936         0.759121        0.000000        0.678092        0.729031  \n",
       "788         0.778121        0.345500        0.554585        0.661642  \n",
       "\n",
       "[5 rows x 221 columns]"
      ]
     },
     "execution_count": 80,
     "metadata": {},
     "output_type": "execute_result"
    }
   ],
   "source": [
    "metabol_exprs = pd.read_csv(\"ExposomeChallengeData/datasets/metabol_joint_exprs_minmax.csv\", index_col=0)\n",
    "metabol_exprs.head()"
   ]
  },
  {
   "cell_type": "code",
   "execution_count": 81,
   "metadata": {},
   "outputs": [],
   "source": [
    "metabol_exprs = metabol_exprs.to_numpy()\n",
    "# np.random.shuffle(metabol_exprs)"
   ]
  },
  {
   "cell_type": "code",
   "execution_count": 6,
   "metadata": {},
   "outputs": [
    {
     "name": "stdout",
     "output_type": "stream",
     "text": [
      "Shape of the data set: (1152, 221)\n",
      "Number of data points: 254592\n"
     ]
    }
   ],
   "source": [
    "num_data_points = np.multiply(*metabol_exprs.shape)\n",
    "print(\"Shape of the data set:\", metabol_exprs.shape)\n",
    "print(\"Number of data points:\", num_data_points)"
   ]
  },
  {
   "cell_type": "markdown",
   "metadata": {},
   "source": [
    "## Load the categorical variables\n",
    "(subset of phenotype and covariates data, already codified)"
   ]
  },
  {
   "cell_type": "code",
   "execution_count": 7,
   "metadata": {},
   "outputs": [
    {
     "data": {
      "text/html": [
       "<div>\n",
       "<style scoped>\n",
       "    .dataframe tbody tr th:only-of-type {\n",
       "        vertical-align: middle;\n",
       "    }\n",
       "\n",
       "    .dataframe tbody tr th {\n",
       "        vertical-align: top;\n",
       "    }\n",
       "\n",
       "    .dataframe thead th {\n",
       "        text-align: right;\n",
       "    }\n",
       "</style>\n",
       "<table border=\"1\" class=\"dataframe\">\n",
       "  <thead>\n",
       "    <tr style=\"text-align: right;\">\n",
       "      <th></th>\n",
       "      <th>birth_weight</th>\n",
       "      <th>iq</th>\n",
       "      <th>behaviour</th>\n",
       "      <th>asthma</th>\n",
       "      <th>bmi</th>\n",
       "      <th>cohort</th>\n",
       "      <th>age</th>\n",
       "      <th>sex</th>\n",
       "      <th>education</th>\n",
       "      <th>native</th>\n",
       "      <th>parity</th>\n",
       "    </tr>\n",
       "  </thead>\n",
       "  <tbody>\n",
       "    <tr>\n",
       "      <th>1</th>\n",
       "      <td>3</td>\n",
       "      <td>0</td>\n",
       "      <td>3</td>\n",
       "      <td>0</td>\n",
       "      <td>1</td>\n",
       "      <td>3</td>\n",
       "      <td>1</td>\n",
       "      <td>0</td>\n",
       "      <td>1</td>\n",
       "      <td>2</td>\n",
       "      <td>0</td>\n",
       "    </tr>\n",
       "    <tr>\n",
       "      <th>2</th>\n",
       "      <td>3</td>\n",
       "      <td>1</td>\n",
       "      <td>3</td>\n",
       "      <td>0</td>\n",
       "      <td>1</td>\n",
       "      <td>3</td>\n",
       "      <td>2</td>\n",
       "      <td>0</td>\n",
       "      <td>2</td>\n",
       "      <td>2</td>\n",
       "      <td>1</td>\n",
       "    </tr>\n",
       "    <tr>\n",
       "      <th>3</th>\n",
       "      <td>3</td>\n",
       "      <td>0</td>\n",
       "      <td>3</td>\n",
       "      <td>1</td>\n",
       "      <td>3</td>\n",
       "      <td>3</td>\n",
       "      <td>1</td>\n",
       "      <td>0</td>\n",
       "      <td>2</td>\n",
       "      <td>2</td>\n",
       "      <td>1</td>\n",
       "    </tr>\n",
       "    <tr>\n",
       "      <th>4</th>\n",
       "      <td>1</td>\n",
       "      <td>2</td>\n",
       "      <td>3</td>\n",
       "      <td>0</td>\n",
       "      <td>1</td>\n",
       "      <td>1</td>\n",
       "      <td>4</td>\n",
       "      <td>1</td>\n",
       "      <td>0</td>\n",
       "      <td>2</td>\n",
       "      <td>1</td>\n",
       "    </tr>\n",
       "    <tr>\n",
       "      <th>5</th>\n",
       "      <td>3</td>\n",
       "      <td>0</td>\n",
       "      <td>1</td>\n",
       "      <td>0</td>\n",
       "      <td>1</td>\n",
       "      <td>2</td>\n",
       "      <td>4</td>\n",
       "      <td>0</td>\n",
       "      <td>0</td>\n",
       "      <td>2</td>\n",
       "      <td>0</td>\n",
       "    </tr>\n",
       "  </tbody>\n",
       "</table>\n",
       "</div>"
      ],
      "text/plain": [
       "   birth_weight  iq  behaviour  asthma  bmi  cohort  age  sex  education  \\\n",
       "1             3   0          3       0    1       3    1    0          1   \n",
       "2             3   1          3       0    1       3    2    0          2   \n",
       "3             3   0          3       1    3       3    1    0          2   \n",
       "4             1   2          3       0    1       1    4    1          0   \n",
       "5             3   0          1       0    1       2    4    0          0   \n",
       "\n",
       "   native  parity  \n",
       "1       2       0  \n",
       "2       2       1  \n",
       "3       2       1  \n",
       "4       2       1  \n",
       "5       2       0  "
      ]
     },
     "execution_count": 7,
     "metadata": {},
     "output_type": "execute_result"
    }
   ],
   "source": [
    "phenotype_cat = pd.read_csv(\"ExposomeChallengeData/datasets/phenotype_cat.csv\", index_col=0)\n",
    "covariates_cat = pd.read_csv(\"ExposomeChallengeData/datasets/covariates_cat.csv\", index_col=0)\n",
    "classes = pd.concat([phenotype_cat, covariates_cat], axis=1)\n",
    "classes.head()"
   ]
  },
  {
   "cell_type": "code",
   "execution_count": 8,
   "metadata": {},
   "outputs": [
    {
     "name": "stdout",
     "output_type": "stream",
     "text": [
      "Number of class variables: 11\n"
     ]
    }
   ],
   "source": [
    "print(\"Number of class variables:\", classes.shape[1])"
   ]
  },
  {
   "cell_type": "markdown",
   "metadata": {},
   "source": [
    "# Construct AE with 1D convolutional layers"
   ]
  },
  {
   "cell_type": "markdown",
   "metadata": {},
   "source": [
    "## Prepare the input\n",
    "- pad with zeros to have shape 224 (divisible by 2 five times)\n",
    "- add 1 dimention"
   ]
  },
  {
   "cell_type": "code",
   "execution_count": 93,
   "metadata": {},
   "outputs": [
    {
     "data": {
      "text/plain": [
       "(1152, 224)"
      ]
     },
     "execution_count": 93,
     "metadata": {},
     "output_type": "execute_result"
    }
   ],
   "source": [
    "metabol_exprs = np.pad(metabol_exprs, ((0,0),(0,3)), 'constant', constant_values=0)\n",
    "metabol_exprs.shape"
   ]
  },
  {
   "cell_type": "code",
   "execution_count": 94,
   "metadata": {},
   "outputs": [
    {
     "data": {
      "text/plain": [
       "(1152, 224, 1)"
      ]
     },
     "execution_count": 94,
     "metadata": {},
     "output_type": "execute_result"
    }
   ],
   "source": [
    "metabol_exprs = np.expand_dims(metabol_exprs, -1)\n",
    "metabol_exprs.shape"
   ]
  },
  {
   "cell_type": "markdown",
   "metadata": {},
   "source": [
    "## Construct the convolutional encoder and decoder"
   ]
  },
  {
   "cell_type": "code",
   "execution_count": 125,
   "metadata": {},
   "outputs": [],
   "source": [
    "def get_encoder(input_dim, latent_dim, filters=[]):\n",
    "    encoder_inputs = keras.Input(shape=(input_dim, 1), name=\"encoder_inputs\")\n",
    "    x = encoder_inputs\n",
    "    for f in filters:\n",
    "        x = layers.Conv1D(f, 3, padding='same', activation=\"relu\") (x)\n",
    "        x = layers.MaxPool1D(2, padding='same') (x)\n",
    "    x = layers.Flatten(name=\"flatten\") (x)\n",
    "    encoder_outputs = layers.Dense(latent_dim, activation=\"relu\", name=\"z\") (x)\n",
    "    return models.Model(encoder_inputs, encoder_outputs, name=\"Encoder\")\n",
    "    \n",
    "def get_decoder(output_dim, latent_dim, filters=[]):\n",
    "    flat_shape = output_dim * filters[-1] // (2*len(filters))\n",
    "    reshape_shape = (flat_shape//filters[-1], filters[-1])\n",
    "    \n",
    "    decoder_inputs = keras.Input(shape=(latent_dim), name=\"decoder_inputs\")\n",
    "    x = layers.Dense(flat_shape) (decoder_inputs)\n",
    "    x = layers.Reshape(reshape_shape) (x)\n",
    "    for f in filters[::-1]:\n",
    "        x = layers.Conv1DTranspose(f, 3, strides=2, padding=\"same\") (x)\n",
    "    decoder_outputs = layers.Conv1D(1, 3, activation=\"sigmoid\", padding=\"same\", name=\"recon_x\") (x)\n",
    "    return models.Model(decoder_inputs, decoder_outputs, name=\"Decoder\")"
   ]
  },
  {
   "cell_type": "code",
   "execution_count": 126,
   "metadata": {},
   "outputs": [
    {
     "name": "stdout",
     "output_type": "stream",
     "text": [
      "Model: \"Encoder\"\n",
      "_________________________________________________________________\n",
      " Layer (type)                Output Shape              Param #   \n",
      "=================================================================\n",
      " encoder_inputs (InputLayer)  [(None, 224, 1)]         0         \n",
      "                                                                 \n",
      " conv1d_87 (Conv1D)          (None, 224, 4)            16        \n",
      "                                                                 \n",
      " max_pooling1d_61 (MaxPoolin  (None, 112, 4)           0         \n",
      " g1D)                                                            \n",
      "                                                                 \n",
      " conv1d_88 (Conv1D)          (None, 112, 16)           208       \n",
      "                                                                 \n",
      " max_pooling1d_62 (MaxPoolin  (None, 56, 16)           0         \n",
      " g1D)                                                            \n",
      "                                                                 \n",
      " flatten (Flatten)           (None, 896)               0         \n",
      "                                                                 \n",
      " z (Dense)                   (None, 5)                 4485      \n",
      "                                                                 \n",
      "=================================================================\n",
      "Total params: 4,709\n",
      "Trainable params: 4,709\n",
      "Non-trainable params: 0\n",
      "_________________________________________________________________\n",
      "Model: \"Decoder\"\n",
      "_________________________________________________________________\n",
      " Layer (type)                Output Shape              Param #   \n",
      "=================================================================\n",
      " decoder_inputs (InputLayer)  [(None, 5)]              0         \n",
      "                                                                 \n",
      " dense_24 (Dense)            (None, 896)               5376      \n",
      "                                                                 \n",
      " reshape_15 (Reshape)        (None, 56, 16)            0         \n",
      "                                                                 \n",
      " conv1d_transpose_8 (Conv1DT  (None, 112, 16)          784       \n",
      " ranspose)                                                       \n",
      "                                                                 \n",
      " conv1d_transpose_9 (Conv1DT  (None, 224, 4)           196       \n",
      " ranspose)                                                       \n",
      "                                                                 \n",
      " recon_x (Conv1D)            (None, 224, 1)            13        \n",
      "                                                                 \n",
      "=================================================================\n",
      "Total params: 6,369\n",
      "Trainable params: 6,369\n",
      "Non-trainable params: 0\n",
      "_________________________________________________________________\n"
     ]
    }
   ],
   "source": [
    "INPUT_DIM = metabol_exprs.shape[1]\n",
    "FILTERS = (4, 16)\n",
    "LATENT_DIM = 5\n",
    "N_CLUSTERS = LATENT_DIM\n",
    "\n",
    "encoder = get_encoder(INPUT_DIM, LATENT_DIM, FILTERS)\n",
    "encoder.summary()\n",
    "\n",
    "decoder = get_decoder(INPUT_DIM, LATENT_DIM, FILTERS)\n",
    "decoder.summary()"
   ]
  },
  {
   "cell_type": "markdown",
   "metadata": {},
   "source": [
    "Number of data points / number of parameters ratio:"
   ]
  },
  {
   "cell_type": "code",
   "execution_count": 131,
   "metadata": {},
   "outputs": [
    {
     "data": {
      "text/plain": [
       "23.293735331287237"
      ]
     },
     "execution_count": 131,
     "metadata": {},
     "output_type": "execute_result"
    }
   ],
   "source": [
    "np.multiply(metabol_exprs.shape[0], metabol_exprs.shape[1]) / (encoder.count_params() + decoder.count_params())"
   ]
  }
 ],
 "metadata": {
  "accelerator": "GPU",
  "colab": {
   "collapsed_sections": [],
   "provenance": [],
   "toc_visible": true
  },
  "gpuClass": "standard",
  "kernelspec": {
   "display_name": "Python 3 (ipykernel)",
   "language": "python",
   "name": "python3"
  },
  "language_info": {
   "codemirror_mode": {
    "name": "ipython",
    "version": 3
   },
   "file_extension": ".py",
   "mimetype": "text/x-python",
   "name": "python",
   "nbconvert_exporter": "python",
   "pygments_lexer": "ipython3",
   "version": "3.9.13"
  },
  "toc-autonumbering": true
 },
 "nbformat": 4,
 "nbformat_minor": 4
}
